{
 "cells": [
  {
   "cell_type": "code",
   "execution_count": 21,
   "metadata": {},
   "outputs": [],
   "source": [
    "import numpy as np\n",
    "import pandas as pd\n",
    "import matplotlib.pyplot as plt\n",
    "%matplotlib inline"
   ]
  },
  {
   "cell_type": "code",
   "execution_count": 8,
   "metadata": {},
   "outputs": [],
   "source": [
    "data_2004 = pd.read_csv(\"2004.txt\", sep = \"\\t\")"
   ]
  },
  {
   "cell_type": "code",
   "execution_count": 9,
   "metadata": {},
   "outputs": [
    {
     "data": {
      "text/plain": [
       "<bound method NDFrame.head of    Ik, vuotta  Yht.yhteens  Miehetyhteens  Naisetyhteens  Yht.Naimattomat  \\\n",
       "0         0-4        27395          13985          13410            27395   \n",
       "1         5-9        26810          13687          13123            26810   \n",
       "2       10-14        28117          14364          13753            28117   \n",
       "3       15-19        27090          13318          13772            27007   \n",
       "4       20-24        44103          20119          23984            41891   \n",
       "5       25-29        53319          26003          27316            42659   \n",
       "6       30-34        43398          21854          21544            25407   \n",
       "7       35-39        45877          22946          22931            21002   \n",
       "8       40-44        41957          20748          21209            15447   \n",
       "9       45-49        38532          18454          20078            11248   \n",
       "10      50-54        38806          17805          21001             8649   \n",
       "11      55-59        40943          18673          22270             6808   \n",
       "12      60-64        27055          11956          15099             3944   \n",
       "13      65-69        21464           9114          12350             2750   \n",
       "14      70-74        18543           7330          11213             2274   \n",
       "15      75-79        15353           5222          10131             1943   \n",
       "16      80-84        10868           2955           7913             1341   \n",
       "17      85-89         6458           1376           5082              921   \n",
       "18      90-94         2644            457           2187              384   \n",
       "19        95+          598             75            523              103   \n",
       "\n",
       "    MiehetNaimattomat  NaisetNaimattomat  Yht.Naimisissa (*)  \\\n",
       "0               13985              13410                   0   \n",
       "1               13687              13123                   0   \n",
       "2               14364              13753                   0   \n",
       "3               13297              13710                  83   \n",
       "4               19436              22455                2051   \n",
       "5               21725              20934                9538   \n",
       "6               13563              11844               14836   \n",
       "7               10944              10058               18952   \n",
       "8                7880               7567               19056   \n",
       "9                5481               5767               18440   \n",
       "10               3870               4779               19802   \n",
       "11               2738               4070               22238   \n",
       "12               1394               2550               14921   \n",
       "13                930               1820               11422   \n",
       "14                647               1627                9242   \n",
       "15                393               1550                6342   \n",
       "16                155               1186                3216   \n",
       "17                 57                864                1121   \n",
       "18                 15                369                 239   \n",
       "19                  3                100                  24   \n",
       "\n",
       "    MiehetNaimisissa (*)  NaisetNaimisissa (*)  Yht.Eronneet  MiehetEronneet  \\\n",
       "0                      0                     0             0               0   \n",
       "1                      0                     0             0               0   \n",
       "2                      0                     0             0               0   \n",
       "3                     21                    62             0               0   \n",
       "4                    633                  1418           159              50   \n",
       "5                   3866                  5672          1105             408   \n",
       "6                   6981                  7855          3111            1304   \n",
       "7                   9339                  9613          5814            2634   \n",
       "8                   9489                  9567          7227            3322   \n",
       "9                   9104                  9336          8446            3778   \n",
       "10                  9620                 10182          9541            4132   \n",
       "11                 11292                 10946         10219            4320   \n",
       "12                  7710                  7211          6328            2510   \n",
       "13                  6039                  5383          4681            1715   \n",
       "14                  4988                  4254          3313            1039   \n",
       "15                  3512                  2830          2183             549   \n",
       "16                  1852                  1364          1214             211   \n",
       "17                   709                   412           678              78   \n",
       "18                   164                    75           260              21   \n",
       "19                    20                     4            43               1   \n",
       "\n",
       "    NaisetEronneet  Yht.Lesket ()  MiehetLesket ()  NaisetLesket ()  \n",
       "0                0              0                0                0  \n",
       "1                0              0                0                0  \n",
       "2                0              0                0                0  \n",
       "3                0              0                0                0  \n",
       "4              109              2                0                2  \n",
       "5              697             17                4               13  \n",
       "6             1807             44                6               38  \n",
       "7             3180            109               29               80  \n",
       "8             3905            227               57              170  \n",
       "9             4668            398               91              307  \n",
       "10            5409            814              183              631  \n",
       "11            5899           1678              323             1355  \n",
       "12            3818           1862              342             1520  \n",
       "13            2966           2611              430             2181  \n",
       "14            2274           3714              656             3058  \n",
       "15            1634           4885              768             4117  \n",
       "16            1003           5097              737             4360  \n",
       "17             600           3738              532             3206  \n",
       "18             239           1761              257             1504  \n",
       "19              42            428               51              377  >"
      ]
     },
     "execution_count": 9,
     "metadata": {},
     "output_type": "execute_result"
    }
   ],
   "source": [
    "data_2004.head"
   ]
  },
  {
   "cell_type": "code",
   "execution_count": 16,
   "metadata": {},
   "outputs": [
    {
     "data": {
      "text/plain": [
       "array(['0-4', 27395, 13985, 13410, 27395, 13985, 13410, 0, 0, 0, 0, 0, 0,\n",
       "       0, 0, 0], dtype=object)"
      ]
     },
     "execution_count": 16,
     "metadata": {},
     "output_type": "execute_result"
    }
   ],
   "source": [
    "da_2004 = np.array(data_2004)\n",
    "ages = da_2004[:,0]\n",
    "values = da_2004[:,1:]\n",
    "da_2004[0,:]"
   ]
  },
  {
   "cell_type": "code",
   "execution_count": 17,
   "metadata": {},
   "outputs": [
    {
     "data": {
      "text/plain": [
       "array(['0-4', '5-9', '10-14', '15-19', '20-24', '25-29', '30-34', '35-39',\n",
       "       '40-44', '45-49', '50-54', '55-59', '60-64', '65-69', '70-74',\n",
       "       '75-79', '80-84', '85-89', '90-94', '95+'], dtype=object)"
      ]
     },
     "execution_count": 17,
     "metadata": {},
     "output_type": "execute_result"
    }
   ],
   "source": [
    "ages"
   ]
  },
  {
   "cell_type": "code",
   "execution_count": 18,
   "metadata": {},
   "outputs": [
    {
     "data": {
      "text/plain": [
       "array([[27395, 13985, 13410, 27395, 13985, 13410, 0, 0, 0, 0, 0, 0, 0, 0, 0],\n",
       "       [26810, 13687, 13123, 26810, 13687, 13123, 0, 0, 0, 0, 0, 0, 0, 0, 0],\n",
       "       [28117, 14364, 13753, 28117, 14364, 13753, 0, 0, 0, 0, 0, 0, 0, 0, 0],\n",
       "       [27090, 13318, 13772, 27007, 13297, 13710, 83, 21, 62, 0, 0, 0, 0,\n",
       "        0, 0],\n",
       "       [44103, 20119, 23984, 41891, 19436, 22455, 2051, 633, 1418, 159, 50,\n",
       "        109, 2, 0, 2],\n",
       "       [53319, 26003, 27316, 42659, 21725, 20934, 9538, 3866, 5672, 1105,\n",
       "        408, 697, 17, 4, 13],\n",
       "       [43398, 21854, 21544, 25407, 13563, 11844, 14836, 6981, 7855, 3111,\n",
       "        1304, 1807, 44, 6, 38],\n",
       "       [45877, 22946, 22931, 21002, 10944, 10058, 18952, 9339, 9613, 5814,\n",
       "        2634, 3180, 109, 29, 80],\n",
       "       [41957, 20748, 21209, 15447, 7880, 7567, 19056, 9489, 9567, 7227,\n",
       "        3322, 3905, 227, 57, 170],\n",
       "       [38532, 18454, 20078, 11248, 5481, 5767, 18440, 9104, 9336, 8446,\n",
       "        3778, 4668, 398, 91, 307],\n",
       "       [38806, 17805, 21001, 8649, 3870, 4779, 19802, 9620, 10182, 9541,\n",
       "        4132, 5409, 814, 183, 631],\n",
       "       [40943, 18673, 22270, 6808, 2738, 4070, 22238, 11292, 10946, 10219,\n",
       "        4320, 5899, 1678, 323, 1355],\n",
       "       [27055, 11956, 15099, 3944, 1394, 2550, 14921, 7710, 7211, 6328,\n",
       "        2510, 3818, 1862, 342, 1520],\n",
       "       [21464, 9114, 12350, 2750, 930, 1820, 11422, 6039, 5383, 4681, 1715,\n",
       "        2966, 2611, 430, 2181],\n",
       "       [18543, 7330, 11213, 2274, 647, 1627, 9242, 4988, 4254, 3313, 1039,\n",
       "        2274, 3714, 656, 3058],\n",
       "       [15353, 5222, 10131, 1943, 393, 1550, 6342, 3512, 2830, 2183, 549,\n",
       "        1634, 4885, 768, 4117],\n",
       "       [10868, 2955, 7913, 1341, 155, 1186, 3216, 1852, 1364, 1214, 211,\n",
       "        1003, 5097, 737, 4360],\n",
       "       [6458, 1376, 5082, 921, 57, 864, 1121, 709, 412, 678, 78, 600, 3738,\n",
       "        532, 3206],\n",
       "       [2644, 457, 2187, 384, 15, 369, 239, 164, 75, 260, 21, 239, 1761,\n",
       "        257, 1504],\n",
       "       [598, 75, 523, 103, 3, 100, 24, 20, 4, 43, 1, 42, 428, 51, 377]], dtype=object)"
      ]
     },
     "execution_count": 18,
     "metadata": {},
     "output_type": "execute_result"
    }
   ],
   "source": [
    "values"
   ]
  },
  {
   "cell_type": "code",
   "execution_count": 19,
   "metadata": {},
   "outputs": [],
   "source": [
    "cum = np.cumsum(values,1)"
   ]
  },
  {
   "cell_type": "code",
   "execution_count": 24,
   "metadata": {},
   "outputs": [
    {
     "data": {
      "image/png": "[encoded data removed]",
      "text/plain": [
       "<matplotlib.figure.Figure at 0x1def6857be0>"
      ]
     },
     "metadata": {},
     "output_type": "display_data"
    }
   ],
   "source": [
    "for i in range(0,cum.shape[0]):\n",
    "    plt.plot(ages,cum[:,1])"
   ]
  },
  {
   "cell_type": "code",
   "execution_count": null,
   "metadata": {},
   "outputs": [],
   "source": []
  }
 ],
 "metadata": {
  "kernelspec": {
   "display_name": "Python 3",
   "language": "python",
   "name": "python3"
  },
  "language_info": {
   "codemirror_mode": {
    "name": "ipython",
    "version": 3
   },
   "file_extension": ".py",
   "mimetype": "text/x-python",
   "name": "python",
   "nbconvert_exporter": "python",
   "pygments_lexer": "ipython3",
   "version": "3.6.3"
  }
 },
 "nbformat": 4,
 "nbformat_minor": 2
}
